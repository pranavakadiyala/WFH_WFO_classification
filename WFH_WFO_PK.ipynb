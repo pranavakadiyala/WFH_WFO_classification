{
 "cells": [
  {
   "cell_type": "markdown",
   "id": "0873c475",
   "metadata": {},
   "source": [
    "# Work From Home (WFH), Work From Office (WFO) Classification\n",
    "### Name: Pranava Kadiyala"
   ]
  },
  {
   "cell_type": "markdown",
   "id": "9905583e",
   "metadata": {},
   "source": [
    "---\n",
    "## Installing and loading packages"
   ]
  },
  {
   "cell_type": "code",
   "execution_count": 50,
   "id": "39af5bd5",
   "metadata": {},
   "outputs": [],
   "source": [
    "import numpy as np\n",
    "import pandas as pd\n",
    "import seaborn as sns\n",
    "from matplotlib import pyplot as plt\n",
    "from sklearn.metrics import mean_squared_error\n",
    "from sklearn.preprocessing import StandardScaler\n",
    "from sklearn.model_selection import train_test_split, LeaveOneOut, KFold, cross_val_score\n",
    "from sklearn import metrics\n",
    "from sklearn.metrics import r2_score \n",
    "import time\n",
    "\n",
    "from sklearn.preprocessing import LabelEncoder, OrdinalEncoder\n",
    "\n",
    "from sklearn.linear_model import LogisticRegression\n",
    "\n",
    "from sklearn.metrics import roc_auc_score, roc_curve\n",
    "from sklearn.metrics import mean_squared_error, confusion_matrix, ConfusionMatrixDisplay, classification_report\n",
    "from sklearn.utils import resample\n",
    "\n",
    "from imblearn.over_sampling import SMOTE\n",
    "from sklearn.model_selection import GridSearchCV\n",
    "from sklearn.ensemble import RandomForestClassifier\n",
    "\n",
    "%matplotlib inline"
   ]
  },
  {
   "cell_type": "markdown",
   "id": "65fac8b4",
   "metadata": {},
   "source": [
    "Outline:\n",
    "- Data Setip\n",
    "- Initial Visualizations\n",
    "- Feature Engineering\n",
    "- Model Fitting, Tuning, Validation and Selection\n",
    "- Conclusion"
   ]
  },
  {
   "cell_type": "markdown",
   "id": "5a098630",
   "metadata": {},
   "source": [
    "---\n",
    "## Data Setup"
   ]
  },
  {
   "cell_type": "code",
   "execution_count": 5,
   "id": "d6b52292",
   "metadata": {},
   "outputs": [
    {
     "data": {
      "text/html": [
       "<div>\n",
       "<style scoped>\n",
       "    .dataframe tbody tr th:only-of-type {\n",
       "        vertical-align: middle;\n",
       "    }\n",
       "\n",
       "    .dataframe tbody tr th {\n",
       "        vertical-align: top;\n",
       "    }\n",
       "\n",
       "    .dataframe thead th {\n",
       "        text-align: right;\n",
       "    }\n",
       "</style>\n",
       "<table border=\"1\" class=\"dataframe\">\n",
       "  <thead>\n",
       "    <tr style=\"text-align: right;\">\n",
       "      <th></th>\n",
       "      <th>ID</th>\n",
       "      <th>Name</th>\n",
       "      <th>Age</th>\n",
       "      <th>Occupation</th>\n",
       "      <th>Gender</th>\n",
       "      <th>Same_ofiice_home_location</th>\n",
       "      <th>kids</th>\n",
       "      <th>RM_save_money</th>\n",
       "      <th>RM_quality_time</th>\n",
       "      <th>RM_better_sleep</th>\n",
       "      <th>calmer_stressed</th>\n",
       "      <th>RM_professional_growth</th>\n",
       "      <th>RM_lazy</th>\n",
       "      <th>RM_productive</th>\n",
       "      <th>digital_connect_sufficient</th>\n",
       "      <th>RM_better_work_life_balance</th>\n",
       "      <th>RM_improved_skillset</th>\n",
       "      <th>RM_job_opportunities</th>\n",
       "      <th>Target</th>\n",
       "    </tr>\n",
       "  </thead>\n",
       "  <tbody>\n",
       "    <tr>\n",
       "      <th>0</th>\n",
       "      <td>1</td>\n",
       "      <td>Bhavana</td>\n",
       "      <td>45</td>\n",
       "      <td>Tutor</td>\n",
       "      <td>Female</td>\n",
       "      <td>Yes</td>\n",
       "      <td>Yes</td>\n",
       "      <td>Yes</td>\n",
       "      <td>Yes</td>\n",
       "      <td>Yes</td>\n",
       "      <td>CALMER</td>\n",
       "      <td>5</td>\n",
       "      <td>1</td>\n",
       "      <td>5</td>\n",
       "      <td>Yes</td>\n",
       "      <td>5</td>\n",
       "      <td>5</td>\n",
       "      <td>Yes</td>\n",
       "      <td>1</td>\n",
       "    </tr>\n",
       "    <tr>\n",
       "      <th>1</th>\n",
       "      <td>2</td>\n",
       "      <td>Harry</td>\n",
       "      <td>24</td>\n",
       "      <td>Tutor</td>\n",
       "      <td>Male</td>\n",
       "      <td>No</td>\n",
       "      <td>No</td>\n",
       "      <td>No</td>\n",
       "      <td>No</td>\n",
       "      <td>No</td>\n",
       "      <td>CALMER</td>\n",
       "      <td>2</td>\n",
       "      <td>2</td>\n",
       "      <td>2</td>\n",
       "      <td>No</td>\n",
       "      <td>3</td>\n",
       "      <td>3</td>\n",
       "      <td>No</td>\n",
       "      <td>1</td>\n",
       "    </tr>\n",
       "    <tr>\n",
       "      <th>2</th>\n",
       "      <td>3</td>\n",
       "      <td>Banditaa</td>\n",
       "      <td>53</td>\n",
       "      <td>HR</td>\n",
       "      <td>Female</td>\n",
       "      <td>Yes</td>\n",
       "      <td>Yes</td>\n",
       "      <td>Yes</td>\n",
       "      <td>Yes</td>\n",
       "      <td>Yes</td>\n",
       "      <td>CALMER</td>\n",
       "      <td>3</td>\n",
       "      <td>3</td>\n",
       "      <td>4</td>\n",
       "      <td>No</td>\n",
       "      <td>5</td>\n",
       "      <td>3</td>\n",
       "      <td>No</td>\n",
       "      <td>1</td>\n",
       "    </tr>\n",
       "    <tr>\n",
       "      <th>3</th>\n",
       "      <td>4</td>\n",
       "      <td>Neetha</td>\n",
       "      <td>26</td>\n",
       "      <td>Engineer</td>\n",
       "      <td>Female</td>\n",
       "      <td>Yes</td>\n",
       "      <td>No</td>\n",
       "      <td>Yes</td>\n",
       "      <td>Yes</td>\n",
       "      <td>No</td>\n",
       "      <td>STRESSED</td>\n",
       "      <td>3</td>\n",
       "      <td>4</td>\n",
       "      <td>4</td>\n",
       "      <td>No</td>\n",
       "      <td>4</td>\n",
       "      <td>5</td>\n",
       "      <td>Yes</td>\n",
       "      <td>0</td>\n",
       "    </tr>\n",
       "    <tr>\n",
       "      <th>4</th>\n",
       "      <td>5</td>\n",
       "      <td>Ram</td>\n",
       "      <td>26</td>\n",
       "      <td>Recruiter</td>\n",
       "      <td>Male</td>\n",
       "      <td>Yes</td>\n",
       "      <td>No</td>\n",
       "      <td>No</td>\n",
       "      <td>Yes</td>\n",
       "      <td>No</td>\n",
       "      <td>STRESSED</td>\n",
       "      <td>3</td>\n",
       "      <td>3</td>\n",
       "      <td>5</td>\n",
       "      <td>Yes</td>\n",
       "      <td>4</td>\n",
       "      <td>2</td>\n",
       "      <td>Yes</td>\n",
       "      <td>1</td>\n",
       "    </tr>\n",
       "  </tbody>\n",
       "</table>\n",
       "</div>"
      ],
      "text/plain": [
       "   ID      Name  Age Occupation  Gender Same_ofiice_home_location kids  \\\n",
       "0   1   Bhavana   45      Tutor  Female                       Yes  Yes   \n",
       "1   2     Harry   24      Tutor    Male                        No   No   \n",
       "2   3  Banditaa   53         HR  Female                       Yes  Yes   \n",
       "3   4    Neetha   26   Engineer  Female                       Yes   No   \n",
       "4   5       Ram   26  Recruiter    Male                       Yes   No   \n",
       "\n",
       "  RM_save_money RM_quality_time RM_better_sleep calmer_stressed  \\\n",
       "0           Yes             Yes             Yes          CALMER   \n",
       "1            No              No              No          CALMER   \n",
       "2           Yes             Yes             Yes          CALMER   \n",
       "3           Yes             Yes              No        STRESSED   \n",
       "4            No             Yes              No        STRESSED   \n",
       "\n",
       "   RM_professional_growth  RM_lazy  RM_productive digital_connect_sufficient  \\\n",
       "0                       5        1              5                        Yes   \n",
       "1                       2        2              2                         No   \n",
       "2                       3        3              4                         No   \n",
       "3                       3        4              4                         No   \n",
       "4                       3        3              5                        Yes   \n",
       "\n",
       "   RM_better_work_life_balance  RM_improved_skillset RM_job_opportunities  \\\n",
       "0                            5                     5                  Yes   \n",
       "1                            3                     3                   No   \n",
       "2                            5                     3                   No   \n",
       "3                            4                     5                  Yes   \n",
       "4                            4                     2                  Yes   \n",
       "\n",
       "   Target  \n",
       "0       1  \n",
       "1       1  \n",
       "2       1  \n",
       "3       0  \n",
       "4       1  "
      ]
     },
     "execution_count": 5,
     "metadata": {},
     "output_type": "execute_result"
    }
   ],
   "source": [
    "#read data\n",
    "df = pd.read_csv(\"data/WFH_WFO_dataset.csv\")\n",
    "df.head()"
   ]
  },
  {
   "cell_type": "code",
   "execution_count": 6,
   "id": "6e41402e",
   "metadata": {},
   "outputs": [
    {
     "data": {
      "text/plain": [
       "(207, 19)"
      ]
     },
     "execution_count": 6,
     "metadata": {},
     "output_type": "execute_result"
    }
   ],
   "source": [
    "#checking dimensionality and sample size\n",
    "df.shape"
   ]
  },
  {
   "cell_type": "code",
   "execution_count": 7,
   "id": "96f034f1",
   "metadata": {},
   "outputs": [
    {
     "name": "stdout",
     "output_type": "stream",
     "text": [
      "<class 'pandas.core.frame.DataFrame'>\n",
      "RangeIndex: 207 entries, 0 to 206\n",
      "Data columns (total 19 columns):\n",
      " #   Column                       Non-Null Count  Dtype \n",
      "---  ------                       --------------  ----- \n",
      " 0   ID                           207 non-null    int64 \n",
      " 1   Name                         207 non-null    object\n",
      " 2   Age                          207 non-null    int64 \n",
      " 3   Occupation                   207 non-null    object\n",
      " 4   Gender                       207 non-null    object\n",
      " 5   Same_ofiice_home_location    207 non-null    object\n",
      " 6   kids                         207 non-null    object\n",
      " 7   RM_save_money                207 non-null    object\n",
      " 8   RM_quality_time              207 non-null    object\n",
      " 9   RM_better_sleep              207 non-null    object\n",
      " 10  calmer_stressed              207 non-null    object\n",
      " 11  RM_professional_growth       207 non-null    int64 \n",
      " 12  RM_lazy                      207 non-null    int64 \n",
      " 13  RM_productive                207 non-null    int64 \n",
      " 14  digital_connect_sufficient   207 non-null    object\n",
      " 15  RM_better_work_life_balance  207 non-null    int64 \n",
      " 16  RM_improved_skillset         207 non-null    int64 \n",
      " 17  RM_job_opportunities         207 non-null    object\n",
      " 18  Target                       207 non-null    int64 \n",
      "dtypes: int64(8), object(11)\n",
      "memory usage: 30.9+ KB\n",
      "None\n"
     ]
    },
    {
     "data": {
      "text/html": [
       "<div>\n",
       "<style scoped>\n",
       "    .dataframe tbody tr th:only-of-type {\n",
       "        vertical-align: middle;\n",
       "    }\n",
       "\n",
       "    .dataframe tbody tr th {\n",
       "        vertical-align: top;\n",
       "    }\n",
       "\n",
       "    .dataframe thead th {\n",
       "        text-align: right;\n",
       "    }\n",
       "</style>\n",
       "<table border=\"1\" class=\"dataframe\">\n",
       "  <thead>\n",
       "    <tr style=\"text-align: right;\">\n",
       "      <th></th>\n",
       "      <th>ID</th>\n",
       "      <th>Age</th>\n",
       "      <th>RM_professional_growth</th>\n",
       "      <th>RM_lazy</th>\n",
       "      <th>RM_productive</th>\n",
       "      <th>RM_better_work_life_balance</th>\n",
       "      <th>RM_improved_skillset</th>\n",
       "      <th>Target</th>\n",
       "    </tr>\n",
       "  </thead>\n",
       "  <tbody>\n",
       "    <tr>\n",
       "      <th>count</th>\n",
       "      <td>207.000000</td>\n",
       "      <td>207.000000</td>\n",
       "      <td>207.000000</td>\n",
       "      <td>207.000000</td>\n",
       "      <td>207.000000</td>\n",
       "      <td>207.000000</td>\n",
       "      <td>207.000000</td>\n",
       "      <td>207.000000</td>\n",
       "    </tr>\n",
       "    <tr>\n",
       "      <th>mean</th>\n",
       "      <td>104.000000</td>\n",
       "      <td>29.666667</td>\n",
       "      <td>3.086957</td>\n",
       "      <td>3.101449</td>\n",
       "      <td>3.623188</td>\n",
       "      <td>3.043478</td>\n",
       "      <td>3.521739</td>\n",
       "      <td>0.405797</td>\n",
       "    </tr>\n",
       "    <tr>\n",
       "      <th>std</th>\n",
       "      <td>59.899917</td>\n",
       "      <td>8.506993</td>\n",
       "      <td>1.089301</td>\n",
       "      <td>1.255801</td>\n",
       "      <td>0.996617</td>\n",
       "      <td>1.247539</td>\n",
       "      <td>1.004002</td>\n",
       "      <td>0.492236</td>\n",
       "    </tr>\n",
       "    <tr>\n",
       "      <th>min</th>\n",
       "      <td>1.000000</td>\n",
       "      <td>21.000000</td>\n",
       "      <td>1.000000</td>\n",
       "      <td>1.000000</td>\n",
       "      <td>1.000000</td>\n",
       "      <td>1.000000</td>\n",
       "      <td>1.000000</td>\n",
       "      <td>0.000000</td>\n",
       "    </tr>\n",
       "    <tr>\n",
       "      <th>25%</th>\n",
       "      <td>52.500000</td>\n",
       "      <td>25.000000</td>\n",
       "      <td>2.000000</td>\n",
       "      <td>2.000000</td>\n",
       "      <td>3.000000</td>\n",
       "      <td>2.000000</td>\n",
       "      <td>3.000000</td>\n",
       "      <td>0.000000</td>\n",
       "    </tr>\n",
       "    <tr>\n",
       "      <th>50%</th>\n",
       "      <td>104.000000</td>\n",
       "      <td>26.000000</td>\n",
       "      <td>3.000000</td>\n",
       "      <td>3.000000</td>\n",
       "      <td>4.000000</td>\n",
       "      <td>3.000000</td>\n",
       "      <td>3.000000</td>\n",
       "      <td>0.000000</td>\n",
       "    </tr>\n",
       "    <tr>\n",
       "      <th>75%</th>\n",
       "      <td>155.500000</td>\n",
       "      <td>29.000000</td>\n",
       "      <td>4.000000</td>\n",
       "      <td>4.000000</td>\n",
       "      <td>4.000000</td>\n",
       "      <td>4.000000</td>\n",
       "      <td>4.000000</td>\n",
       "      <td>1.000000</td>\n",
       "    </tr>\n",
       "    <tr>\n",
       "      <th>max</th>\n",
       "      <td>207.000000</td>\n",
       "      <td>57.000000</td>\n",
       "      <td>5.000000</td>\n",
       "      <td>5.000000</td>\n",
       "      <td>5.000000</td>\n",
       "      <td>5.000000</td>\n",
       "      <td>5.000000</td>\n",
       "      <td>1.000000</td>\n",
       "    </tr>\n",
       "  </tbody>\n",
       "</table>\n",
       "</div>"
      ],
      "text/plain": [
       "               ID         Age  RM_professional_growth     RM_lazy  \\\n",
       "count  207.000000  207.000000              207.000000  207.000000   \n",
       "mean   104.000000   29.666667                3.086957    3.101449   \n",
       "std     59.899917    8.506993                1.089301    1.255801   \n",
       "min      1.000000   21.000000                1.000000    1.000000   \n",
       "25%     52.500000   25.000000                2.000000    2.000000   \n",
       "50%    104.000000   26.000000                3.000000    3.000000   \n",
       "75%    155.500000   29.000000                4.000000    4.000000   \n",
       "max    207.000000   57.000000                5.000000    5.000000   \n",
       "\n",
       "       RM_productive  RM_better_work_life_balance  RM_improved_skillset  \\\n",
       "count     207.000000                   207.000000            207.000000   \n",
       "mean        3.623188                     3.043478              3.521739   \n",
       "std         0.996617                     1.247539              1.004002   \n",
       "min         1.000000                     1.000000              1.000000   \n",
       "25%         3.000000                     2.000000              3.000000   \n",
       "50%         4.000000                     3.000000              3.000000   \n",
       "75%         4.000000                     4.000000              4.000000   \n",
       "max         5.000000                     5.000000              5.000000   \n",
       "\n",
       "           Target  \n",
       "count  207.000000  \n",
       "mean     0.405797  \n",
       "std      0.492236  \n",
       "min      0.000000  \n",
       "25%      0.000000  \n",
       "50%      0.000000  \n",
       "75%      1.000000  \n",
       "max      1.000000  "
      ]
     },
     "execution_count": 7,
     "metadata": {},
     "output_type": "execute_result"
    }
   ],
   "source": [
    "#initial look at the data\n",
    "print(df.info())\n",
    "df.describe()"
   ]
  },
  {
   "cell_type": "code",
   "execution_count": 5,
   "id": "d7c8751a",
   "metadata": {},
   "outputs": [
    {
     "data": {
      "text/plain": [
       "ID                             0\n",
       "Name                           0\n",
       "Age                            0\n",
       "Occupation                     0\n",
       "Gender                         0\n",
       "Same_ofiice_home_location      0\n",
       "kids                           0\n",
       "RM_save_money                  0\n",
       "RM_quality_time                0\n",
       "RM_better_sleep                0\n",
       "calmer_stressed                0\n",
       "RM_professional_growth         0\n",
       "RM_lazy                        0\n",
       "RM_productive                  0\n",
       "digital_connect_sufficient     0\n",
       "RM_better_work_life_balance    0\n",
       "RM_improved_skillset           0\n",
       "RM_job_opportunities           0\n",
       "Target                         0\n",
       "dtype: int64"
      ]
     },
     "execution_count": 5,
     "metadata": {},
     "output_type": "execute_result"
    }
   ],
   "source": [
    "#checking for nulls\n",
    "df.isnull().sum()"
   ]
  },
  {
   "cell_type": "markdown",
   "id": "c6cb3648",
   "metadata": {},
   "source": [
    "There are no missing values, hence no dropping of rows is required. However, we can drop the column 'Name' and 'ID' because they don't provide us with any additional information. This has been dealt with in the section on 'Feature Engineering' below. Similarly, categorical variables are also dealt with in that section."
   ]
  },
  {
   "cell_type": "markdown",
   "id": "8617fb81",
   "metadata": {},
   "source": [
    "---\n",
    "## Initial Visualizations"
   ]
  },
  {
   "cell_type": "markdown",
   "id": "eeb38cc7",
   "metadata": {},
   "source": [
    "I generate count plots (and histogram for continuous variable age) because they help us finding the distribution of the variable. With categorical variables it also shows us the various categories, and if they are labelled correctly. We can also use the countplots to identify the various categories in a variable."
   ]
  },
  {
   "cell_type": "markdown",
   "id": "a1cfcbd8",
   "metadata": {},
   "source": [
    "#### Demographic characteristics"
   ]
  },
  {
   "cell_type": "code",
   "execution_count": 8,
   "id": "ea6fb79c",
   "metadata": {
    "scrolled": true
   },
   "outputs": [
    {
     "data": {
      "text/plain": [
       "<AxesSubplot:xlabel='Age', ylabel='Count'>"
      ]
     },
     "execution_count": 8,
     "metadata": {},
     "output_type": "execute_result"
    },
    {
     "data": {
      "image/png": "[encoded data removed]",
      "text/plain": [
       "<Figure size 432x288 with 1 Axes>"
      ]
     },
     "metadata": {
      "needs_background": "light"
     },
     "output_type": "display_data"
    }
   ],
   "source": [
    "sns.histplot(data=df, x=\"Age\")"
   ]
  },
  {
   "cell_type": "markdown",
   "id": "3dc9427f",
   "metadata": {},
   "source": [
    "There is a high concentration of younger professionals in the sample"
   ]
  },
  {
   "cell_type": "code",
   "execution_count": 9,
   "id": "e3939bcd",
   "metadata": {},
   "outputs": [
    {
     "data": {
      "image/png": "[encoded data removed]",
      "text/plain": [
       "<Figure size 1080x360 with 2 Axes>"
      ]
     },
     "metadata": {
      "needs_background": "light"
     },
     "output_type": "display_data"
    }
   ],
   "source": [
    "fig, axes = plt.subplots(1, 2, figsize=(15, 5))\n",
    "fig.suptitle('Demographic Characteristics (Categorical Vars)')\n",
    "\n",
    "fig1 = sns.countplot(data=df, x=\"Occupation\", ax=axes[0])\n",
    "fig1.tick_params(rotation=45)\n",
    "\n",
    "sns.countplot(data=df, x=\"Gender\", ax=axes[1])\n",
    "\n",
    "plt.show()"
   ]
  },
  {
   "cell_type": "code",
   "execution_count": 10,
   "id": "55ff6f64",
   "metadata": {
    "scrolled": true
   },
   "outputs": [
    {
     "data": {
      "image/png": "[encoded data removed]",
      "text/plain": [
       "<Figure size 1080x360 with 2 Axes>"
      ]
     },
     "metadata": {
      "needs_background": "light"
     },
     "output_type": "display_data"
    }
   ],
   "source": [
    "fig, axes = plt.subplots(1, 2, figsize=(15, 5))\n",
    "fig.suptitle('Demographic Characteristics (Categorical Vars)')\n",
    "\n",
    "sns.countplot(data=df, x=\"Same_ofiice_home_location\", ax=axes[0])\n",
    "\n",
    "sns.countplot(data=df, x=\"kids\", ax=axes[1])\n",
    "\n",
    "plt.show()"
   ]
  },
  {
   "cell_type": "code",
   "execution_count": 11,
   "id": "2d3d834e",
   "metadata": {},
   "outputs": [
    {
     "data": {
      "text/plain": [
       "<AxesSubplot:xlabel='Same_ofiice_home_location', ylabel='count'>"
      ]
     },
     "execution_count": 11,
     "metadata": {},
     "output_type": "execute_result"
    },
    {
     "data": {
      "image/png": "[encoded data removed]",
      "text/plain": [
       "<Figure size 432x288 with 1 Axes>"
      ]
     },
     "metadata": {
      "needs_background": "light"
     },
     "output_type": "display_data"
    }
   ],
   "source": [
    "#fixing the issue with bad labels in Office location\n",
    "df['Same_ofiice_home_location'] = df['Same_ofiice_home_location'].replace(\"yes\", \"Yes\")\n",
    "sns.countplot(data=df, x=\"Same_ofiice_home_location\")"
   ]
  },
  {
   "cell_type": "markdown",
   "id": "372f3b61",
   "metadata": {},
   "source": [
    "#### target variable"
   ]
  },
  {
   "cell_type": "code",
   "execution_count": 10,
   "id": "ad871096",
   "metadata": {
    "scrolled": true
   },
   "outputs": [
    {
     "data": {
      "image/png": "[encoded data removed]",
      "text/plain": [
       "<Figure size 360x360 with 1 Axes>"
      ]
     },
     "metadata": {
      "needs_background": "light"
     },
     "output_type": "display_data"
    }
   ],
   "source": [
    "fig, axes = plt.subplots(figsize=(5, 5))\n",
    "fig.suptitle('Work location Preference')\n",
    "\n",
    "fig1 = sns.countplot(data=df, x=\"Target\")\n",
    "fig1.set_xticks([0, 1], ['WFO', 'WFH'])\n",
    "\n",
    "plt.show()"
   ]
  },
  {
   "cell_type": "markdown",
   "id": "2793f609",
   "metadata": {},
   "source": [
    "We see that the target variable is unbalanced - we fix this through upsampling in sections below"
   ]
  },
  {
   "cell_type": "markdown",
   "id": "d4f4610b",
   "metadata": {},
   "source": [
    "---\n",
    "\n",
    "### Feature Engineering"
   ]
  },
  {
   "cell_type": "code",
   "execution_count": 31,
   "id": "fe5f80fa",
   "metadata": {},
   "outputs": [],
   "source": [
    "seed = 25\n",
    "#using the same seed throughout"
   ]
  },
  {
   "cell_type": "code",
   "execution_count": 22,
   "id": "b55efe53",
   "metadata": {},
   "outputs": [
    {
     "name": "stdout",
     "output_type": "stream",
     "text": [
      "Index(['ID', 'Name', 'Age', 'Occupation', 'Gender',\n",
      "       'Same_ofiice_home_location', 'kids', 'RM_save_money', 'RM_quality_time',\n",
      "       'RM_better_sleep', 'calmer_stressed', 'RM_professional_growth',\n",
      "       'RM_lazy', 'RM_productive', 'digital_connect_sufficient',\n",
      "       'RM_better_work_life_balance', 'RM_improved_skillset',\n",
      "       'RM_job_opportunities', 'Target'],\n",
      "      dtype='object')\n"
     ]
    }
   ],
   "source": [
    "columns = df.columns\n",
    "print(columns)"
   ]
  },
  {
   "cell_type": "markdown",
   "id": "7f51ebb7",
   "metadata": {},
   "source": [
    "Name and ID doesn't add any information, so dropping these column."
   ]
  },
  {
   "cell_type": "code",
   "execution_count": 23,
   "id": "27cf4e9b",
   "metadata": {},
   "outputs": [],
   "source": [
    "df.drop(columns=['ID', 'Name'], inplace=True)"
   ]
  },
  {
   "cell_type": "code",
   "execution_count": 24,
   "id": "8d72017b",
   "metadata": {},
   "outputs": [
    {
     "data": {
      "text/html": [
       "<div>\n",
       "<style scoped>\n",
       "    .dataframe tbody tr th:only-of-type {\n",
       "        vertical-align: middle;\n",
       "    }\n",
       "\n",
       "    .dataframe tbody tr th {\n",
       "        vertical-align: top;\n",
       "    }\n",
       "\n",
       "    .dataframe thead th {\n",
       "        text-align: right;\n",
       "    }\n",
       "</style>\n",
       "<table border=\"1\" class=\"dataframe\">\n",
       "  <thead>\n",
       "    <tr style=\"text-align: right;\">\n",
       "      <th></th>\n",
       "      <th>Occupation</th>\n",
       "      <th>Gender</th>\n",
       "      <th>Same_ofiice_home_location</th>\n",
       "      <th>kids</th>\n",
       "      <th>RM_save_money</th>\n",
       "      <th>RM_quality_time</th>\n",
       "      <th>RM_better_sleep</th>\n",
       "      <th>calmer_stressed</th>\n",
       "      <th>RM_professional_growth</th>\n",
       "      <th>RM_lazy</th>\n",
       "      <th>RM_productive</th>\n",
       "      <th>digital_connect_sufficient</th>\n",
       "      <th>RM_better_work_life_balance</th>\n",
       "      <th>RM_improved_skillset</th>\n",
       "      <th>RM_job_opportunities</th>\n",
       "      <th>Target</th>\n",
       "      <th>Age_std</th>\n",
       "    </tr>\n",
       "  </thead>\n",
       "  <tbody>\n",
       "    <tr>\n",
       "      <th>0</th>\n",
       "      <td>Tutor</td>\n",
       "      <td>Female</td>\n",
       "      <td>Yes</td>\n",
       "      <td>Yes</td>\n",
       "      <td>Yes</td>\n",
       "      <td>Yes</td>\n",
       "      <td>Yes</td>\n",
       "      <td>CALMER</td>\n",
       "      <td>5</td>\n",
       "      <td>1</td>\n",
       "      <td>5</td>\n",
       "      <td>Yes</td>\n",
       "      <td>5</td>\n",
       "      <td>5</td>\n",
       "      <td>Yes</td>\n",
       "      <td>1</td>\n",
       "      <td>1.806808</td>\n",
       "    </tr>\n",
       "    <tr>\n",
       "      <th>1</th>\n",
       "      <td>Tutor</td>\n",
       "      <td>Male</td>\n",
       "      <td>No</td>\n",
       "      <td>No</td>\n",
       "      <td>No</td>\n",
       "      <td>No</td>\n",
       "      <td>No</td>\n",
       "      <td>CALMER</td>\n",
       "      <td>2</td>\n",
       "      <td>2</td>\n",
       "      <td>2</td>\n",
       "      <td>No</td>\n",
       "      <td>3</td>\n",
       "      <td>3</td>\n",
       "      <td>No</td>\n",
       "      <td>1</td>\n",
       "      <td>-0.667733</td>\n",
       "    </tr>\n",
       "    <tr>\n",
       "      <th>2</th>\n",
       "      <td>HR</td>\n",
       "      <td>Female</td>\n",
       "      <td>Yes</td>\n",
       "      <td>Yes</td>\n",
       "      <td>Yes</td>\n",
       "      <td>Yes</td>\n",
       "      <td>Yes</td>\n",
       "      <td>CALMER</td>\n",
       "      <td>3</td>\n",
       "      <td>3</td>\n",
       "      <td>4</td>\n",
       "      <td>No</td>\n",
       "      <td>5</td>\n",
       "      <td>3</td>\n",
       "      <td>No</td>\n",
       "      <td>1</td>\n",
       "      <td>2.749491</td>\n",
       "    </tr>\n",
       "    <tr>\n",
       "      <th>3</th>\n",
       "      <td>Engineer</td>\n",
       "      <td>Female</td>\n",
       "      <td>Yes</td>\n",
       "      <td>No</td>\n",
       "      <td>Yes</td>\n",
       "      <td>Yes</td>\n",
       "      <td>No</td>\n",
       "      <td>STRESSED</td>\n",
       "      <td>3</td>\n",
       "      <td>4</td>\n",
       "      <td>4</td>\n",
       "      <td>No</td>\n",
       "      <td>4</td>\n",
       "      <td>5</td>\n",
       "      <td>Yes</td>\n",
       "      <td>0</td>\n",
       "      <td>-0.432063</td>\n",
       "    </tr>\n",
       "    <tr>\n",
       "      <th>4</th>\n",
       "      <td>Recruiter</td>\n",
       "      <td>Male</td>\n",
       "      <td>Yes</td>\n",
       "      <td>No</td>\n",
       "      <td>No</td>\n",
       "      <td>Yes</td>\n",
       "      <td>No</td>\n",
       "      <td>STRESSED</td>\n",
       "      <td>3</td>\n",
       "      <td>3</td>\n",
       "      <td>5</td>\n",
       "      <td>Yes</td>\n",
       "      <td>4</td>\n",
       "      <td>2</td>\n",
       "      <td>Yes</td>\n",
       "      <td>1</td>\n",
       "      <td>-0.432063</td>\n",
       "    </tr>\n",
       "  </tbody>\n",
       "</table>\n",
       "</div>"
      ],
      "text/plain": [
       "  Occupation  Gender Same_ofiice_home_location kids RM_save_money  \\\n",
       "0      Tutor  Female                       Yes  Yes           Yes   \n",
       "1      Tutor    Male                        No   No            No   \n",
       "2         HR  Female                       Yes  Yes           Yes   \n",
       "3   Engineer  Female                       Yes   No           Yes   \n",
       "4  Recruiter    Male                       Yes   No            No   \n",
       "\n",
       "  RM_quality_time RM_better_sleep calmer_stressed  RM_professional_growth  \\\n",
       "0             Yes             Yes          CALMER                       5   \n",
       "1              No              No          CALMER                       2   \n",
       "2             Yes             Yes          CALMER                       3   \n",
       "3             Yes              No        STRESSED                       3   \n",
       "4             Yes              No        STRESSED                       3   \n",
       "\n",
       "   RM_lazy  RM_productive digital_connect_sufficient  \\\n",
       "0        1              5                        Yes   \n",
       "1        2              2                         No   \n",
       "2        3              4                         No   \n",
       "3        4              4                         No   \n",
       "4        3              5                        Yes   \n",
       "\n",
       "   RM_better_work_life_balance  RM_improved_skillset RM_job_opportunities  \\\n",
       "0                            5                     5                  Yes   \n",
       "1                            3                     3                   No   \n",
       "2                            5                     3                   No   \n",
       "3                            4                     5                  Yes   \n",
       "4                            4                     2                  Yes   \n",
       "\n",
       "   Target   Age_std  \n",
       "0       1  1.806808  \n",
       "1       1 -0.667733  \n",
       "2       1  2.749491  \n",
       "3       0 -0.432063  \n",
       "4       1 -0.432063  "
      ]
     },
     "execution_count": 24,
     "metadata": {},
     "output_type": "execute_result"
    }
   ],
   "source": [
    "#Since there are some outliers in Age, I am standardizing (seen in the visualizations above)\n",
    "scaler = StandardScaler(with_mean=True)\n",
    "df['Age_std'] = scaler.fit_transform(df[['Age']])\n",
    "df.drop(columns=['Age'], inplace=True)\n",
    "df.head()"
   ]
  },
  {
   "cell_type": "code",
   "execution_count": 25,
   "id": "dc5fbfd3",
   "metadata": {},
   "outputs": [],
   "source": [
    "#for the variables related to the opinions of work location, I generate value tables to see if they values are appropriate\n",
    "WL_opinion = ['RM_save_money', 'RM_quality_time',\n",
    "       'RM_better_sleep', 'calmer_stressed', 'RM_professional_growth',\n",
    "       'RM_lazy', 'RM_productive', 'digital_connect_sufficient',\n",
    "       'RM_better_work_life_balance', 'RM_improved_skillset',\n",
    "       'RM_job_opportunities']"
   ]
  },
  {
   "cell_type": "code",
   "execution_count": 15,
   "id": "80a5b9e8",
   "metadata": {},
   "outputs": [
    {
     "name": "stdout",
     "output_type": "stream",
     "text": [
      "RM_save_money\n",
      "Yes              156\n",
      "No                51\n",
      "dtype: int64\n",
      "\n",
      "\n",
      "RM_quality_time\n",
      "Yes                135\n",
      "No                  72\n",
      "dtype: int64\n",
      "\n",
      "\n",
      "RM_better_sleep\n",
      "No                 114\n",
      "Yes                 93\n",
      "dtype: int64\n",
      "\n",
      "\n",
      "calmer_stressed\n",
      "STRESSED           126\n",
      "CALMER              81\n",
      "dtype: int64\n",
      "\n",
      "\n",
      "RM_professional_growth\n",
      "3                         78\n",
      "4                         57\n",
      "2                         33\n",
      "1                         21\n",
      "5                         18\n",
      "dtype: int64\n",
      "\n",
      "\n",
      "RM_lazy\n",
      "4          72\n",
      "3          60\n",
      "1          39\n",
      "5          21\n",
      "2          15\n",
      "dtype: int64\n",
      "\n",
      "\n",
      "RM_productive\n",
      "4                69\n",
      "3                66\n",
      "5                45\n",
      "2                24\n",
      "1                 3\n",
      "dtype: int64\n",
      "\n",
      "\n",
      "digital_connect_sufficient\n",
      "No                            108\n",
      "Yes                            99\n",
      "dtype: int64\n",
      "\n",
      "\n",
      "RM_better_work_life_balance\n",
      "3                              57\n",
      "4                              54\n",
      "2                              39\n",
      "1                              30\n",
      "5                              27\n",
      "dtype: int64\n",
      "\n",
      "\n",
      "RM_improved_skillset\n",
      "3                       87\n",
      "4                       54\n",
      "5                       42\n",
      "2                       18\n",
      "1                        6\n",
      "dtype: int64\n",
      "\n",
      "\n",
      "RM_job_opportunities\n",
      "Not sure                87\n",
      "Yes                     75\n",
      "No                      45\n",
      "dtype: int64\n",
      "\n",
      "\n"
     ]
    }
   ],
   "source": [
    "for i in WL_opinion:\n",
    "    print(df[[i]].value_counts())\n",
    "    print('\\n')"
   ]
  },
  {
   "cell_type": "markdown",
   "id": "1e3b2327",
   "metadata": {},
   "source": [
    "'RM_professional_growth', 'RM_lazy', 'RM_productive', 'RM_better_work_life_balance' and 'RM_improved_skillset' are actually categorical variables represnting opinions and preferences over a 5point Likert scale. Hence we need to make them categorical vairables first."
   ]
  },
  {
   "cell_type": "code",
   "execution_count": 26,
   "id": "41561df5",
   "metadata": {},
   "outputs": [
    {
     "name": "stdout",
     "output_type": "stream",
     "text": [
      "<class 'pandas.core.frame.DataFrame'>\n",
      "RangeIndex: 207 entries, 0 to 206\n",
      "Data columns (total 17 columns):\n",
      " #   Column                       Non-Null Count  Dtype   \n",
      "---  ------                       --------------  -----   \n",
      " 0   Occupation                   207 non-null    object  \n",
      " 1   Gender                       207 non-null    object  \n",
      " 2   Same_ofiice_home_location    207 non-null    object  \n",
      " 3   kids                         207 non-null    object  \n",
      " 4   RM_save_money                207 non-null    object  \n",
      " 5   RM_quality_time              207 non-null    object  \n",
      " 6   RM_better_sleep              207 non-null    object  \n",
      " 7   calmer_stressed              207 non-null    object  \n",
      " 8   RM_professional_growth       207 non-null    category\n",
      " 9   RM_lazy                      207 non-null    category\n",
      " 10  RM_productive                207 non-null    category\n",
      " 11  digital_connect_sufficient   207 non-null    object  \n",
      " 12  RM_better_work_life_balance  207 non-null    category\n",
      " 13  RM_improved_skillset         207 non-null    category\n",
      " 14  RM_job_opportunities         207 non-null    object  \n",
      " 15  Target                       207 non-null    int64   \n",
      " 16  Age_std                      207 non-null    float64 \n",
      "dtypes: category(5), float64(1), int64(1), object(10)\n",
      "memory usage: 21.6+ KB\n"
     ]
    }
   ],
   "source": [
    "cat = ['RM_professional_growth',\n",
    "       'RM_lazy', 'RM_productive', \n",
    "       'RM_better_work_life_balance', 'RM_improved_skillset']\n",
    "for i in cat:\n",
    "    df[[i]] = df[[i]].astype('category')\n",
    "\n",
    "df.info()"
   ]
  },
  {
   "cell_type": "code",
   "execution_count": 27,
   "id": "4f3c96ad",
   "metadata": {},
   "outputs": [],
   "source": [
    "#encoding categorical variables for modelling\n",
    "dummy = ['Occupation', 'Gender',\n",
    "       'Same_ofiice_home_location', 'kids', 'RM_save_money', 'RM_quality_time',\n",
    "       'RM_better_sleep', 'calmer_stressed', 'RM_professional_growth',\n",
    "       'RM_lazy', 'RM_productive', 'digital_connect_sufficient',\n",
    "       'RM_better_work_life_balance', 'RM_improved_skillset',\n",
    "       'RM_job_opportunities']\n",
    "pd_dummy = pd.get_dummies(data=df[dummy])\n",
    "df = pd.concat([df,pd_dummy],axis=1).drop(columns=dummy)\n"
   ]
  },
  {
   "cell_type": "code",
   "execution_count": 28,
   "id": "34fe2a48",
   "metadata": {},
   "outputs": [
    {
     "data": {
      "text/html": [
       "<div>\n",
       "<style scoped>\n",
       "    .dataframe tbody tr th:only-of-type {\n",
       "        vertical-align: middle;\n",
       "    }\n",
       "\n",
       "    .dataframe tbody tr th {\n",
       "        vertical-align: top;\n",
       "    }\n",
       "\n",
       "    .dataframe thead th {\n",
       "        text-align: right;\n",
       "    }\n",
       "</style>\n",
       "<table border=\"1\" class=\"dataframe\">\n",
       "  <thead>\n",
       "    <tr style=\"text-align: right;\">\n",
       "      <th></th>\n",
       "      <th>Target</th>\n",
       "      <th>Age_std</th>\n",
       "      <th>Occupation_Business</th>\n",
       "      <th>Occupation_Engineer</th>\n",
       "      <th>Occupation_HR</th>\n",
       "      <th>Occupation_Manager</th>\n",
       "      <th>Occupation_Marketing</th>\n",
       "      <th>Occupation_Recruiter</th>\n",
       "      <th>Occupation_Tutor</th>\n",
       "      <th>Gender_Female</th>\n",
       "      <th>...</th>\n",
       "      <th>RM_better_work_life_balance_4</th>\n",
       "      <th>RM_better_work_life_balance_5</th>\n",
       "      <th>RM_improved_skillset_1</th>\n",
       "      <th>RM_improved_skillset_2</th>\n",
       "      <th>RM_improved_skillset_3</th>\n",
       "      <th>RM_improved_skillset_4</th>\n",
       "      <th>RM_improved_skillset_5</th>\n",
       "      <th>RM_job_opportunities_No</th>\n",
       "      <th>RM_job_opportunities_Not sure</th>\n",
       "      <th>RM_job_opportunities_Yes</th>\n",
       "    </tr>\n",
       "  </thead>\n",
       "  <tbody>\n",
       "    <tr>\n",
       "      <th>0</th>\n",
       "      <td>1</td>\n",
       "      <td>1.806808</td>\n",
       "      <td>0</td>\n",
       "      <td>0</td>\n",
       "      <td>0</td>\n",
       "      <td>0</td>\n",
       "      <td>0</td>\n",
       "      <td>0</td>\n",
       "      <td>1</td>\n",
       "      <td>1</td>\n",
       "      <td>...</td>\n",
       "      <td>0</td>\n",
       "      <td>1</td>\n",
       "      <td>0</td>\n",
       "      <td>0</td>\n",
       "      <td>0</td>\n",
       "      <td>0</td>\n",
       "      <td>1</td>\n",
       "      <td>0</td>\n",
       "      <td>0</td>\n",
       "      <td>1</td>\n",
       "    </tr>\n",
       "    <tr>\n",
       "      <th>1</th>\n",
       "      <td>1</td>\n",
       "      <td>-0.667733</td>\n",
       "      <td>0</td>\n",
       "      <td>0</td>\n",
       "      <td>0</td>\n",
       "      <td>0</td>\n",
       "      <td>0</td>\n",
       "      <td>0</td>\n",
       "      <td>1</td>\n",
       "      <td>0</td>\n",
       "      <td>...</td>\n",
       "      <td>0</td>\n",
       "      <td>0</td>\n",
       "      <td>0</td>\n",
       "      <td>0</td>\n",
       "      <td>1</td>\n",
       "      <td>0</td>\n",
       "      <td>0</td>\n",
       "      <td>1</td>\n",
       "      <td>0</td>\n",
       "      <td>0</td>\n",
       "    </tr>\n",
       "    <tr>\n",
       "      <th>2</th>\n",
       "      <td>1</td>\n",
       "      <td>2.749491</td>\n",
       "      <td>0</td>\n",
       "      <td>0</td>\n",
       "      <td>1</td>\n",
       "      <td>0</td>\n",
       "      <td>0</td>\n",
       "      <td>0</td>\n",
       "      <td>0</td>\n",
       "      <td>1</td>\n",
       "      <td>...</td>\n",
       "      <td>0</td>\n",
       "      <td>1</td>\n",
       "      <td>0</td>\n",
       "      <td>0</td>\n",
       "      <td>1</td>\n",
       "      <td>0</td>\n",
       "      <td>0</td>\n",
       "      <td>1</td>\n",
       "      <td>0</td>\n",
       "      <td>0</td>\n",
       "    </tr>\n",
       "    <tr>\n",
       "      <th>3</th>\n",
       "      <td>0</td>\n",
       "      <td>-0.432063</td>\n",
       "      <td>0</td>\n",
       "      <td>1</td>\n",
       "      <td>0</td>\n",
       "      <td>0</td>\n",
       "      <td>0</td>\n",
       "      <td>0</td>\n",
       "      <td>0</td>\n",
       "      <td>1</td>\n",
       "      <td>...</td>\n",
       "      <td>1</td>\n",
       "      <td>0</td>\n",
       "      <td>0</td>\n",
       "      <td>0</td>\n",
       "      <td>0</td>\n",
       "      <td>0</td>\n",
       "      <td>1</td>\n",
       "      <td>0</td>\n",
       "      <td>0</td>\n",
       "      <td>1</td>\n",
       "    </tr>\n",
       "    <tr>\n",
       "      <th>4</th>\n",
       "      <td>1</td>\n",
       "      <td>-0.432063</td>\n",
       "      <td>0</td>\n",
       "      <td>0</td>\n",
       "      <td>0</td>\n",
       "      <td>0</td>\n",
       "      <td>0</td>\n",
       "      <td>1</td>\n",
       "      <td>0</td>\n",
       "      <td>0</td>\n",
       "      <td>...</td>\n",
       "      <td>1</td>\n",
       "      <td>0</td>\n",
       "      <td>0</td>\n",
       "      <td>1</td>\n",
       "      <td>0</td>\n",
       "      <td>0</td>\n",
       "      <td>0</td>\n",
       "      <td>0</td>\n",
       "      <td>0</td>\n",
       "      <td>1</td>\n",
       "    </tr>\n",
       "  </tbody>\n",
       "</table>\n",
       "<p>5 rows × 53 columns</p>\n",
       "</div>"
      ],
      "text/plain": [
       "   Target   Age_std  Occupation_Business  Occupation_Engineer  Occupation_HR  \\\n",
       "0       1  1.806808                    0                    0              0   \n",
       "1       1 -0.667733                    0                    0              0   \n",
       "2       1  2.749491                    0                    0              1   \n",
       "3       0 -0.432063                    0                    1              0   \n",
       "4       1 -0.432063                    0                    0              0   \n",
       "\n",
       "   Occupation_Manager  Occupation_Marketing   Occupation_Recruiter  \\\n",
       "0                   0                      0                     0   \n",
       "1                   0                      0                     0   \n",
       "2                   0                      0                     0   \n",
       "3                   0                      0                     0   \n",
       "4                   0                      0                     1   \n",
       "\n",
       "   Occupation_Tutor  Gender_Female  ...  RM_better_work_life_balance_4  \\\n",
       "0                 1              1  ...                              0   \n",
       "1                 1              0  ...                              0   \n",
       "2                 0              1  ...                              0   \n",
       "3                 0              1  ...                              1   \n",
       "4                 0              0  ...                              1   \n",
       "\n",
       "   RM_better_work_life_balance_5  RM_improved_skillset_1  \\\n",
       "0                              1                       0   \n",
       "1                              0                       0   \n",
       "2                              1                       0   \n",
       "3                              0                       0   \n",
       "4                              0                       0   \n",
       "\n",
       "   RM_improved_skillset_2  RM_improved_skillset_3  RM_improved_skillset_4  \\\n",
       "0                       0                       0                       0   \n",
       "1                       0                       1                       0   \n",
       "2                       0                       1                       0   \n",
       "3                       0                       0                       0   \n",
       "4                       1                       0                       0   \n",
       "\n",
       "   RM_improved_skillset_5  RM_job_opportunities_No  \\\n",
       "0                       1                        0   \n",
       "1                       0                        1   \n",
       "2                       0                        1   \n",
       "3                       1                        0   \n",
       "4                       0                        0   \n",
       "\n",
       "   RM_job_opportunities_Not sure  RM_job_opportunities_Yes  \n",
       "0                              0                         1  \n",
       "1                              0                         0  \n",
       "2                              0                         0  \n",
       "3                              0                         1  \n",
       "4                              0                         1  \n",
       "\n",
       "[5 rows x 53 columns]"
      ]
     },
     "execution_count": 28,
     "metadata": {},
     "output_type": "execute_result"
    }
   ],
   "source": [
    "df.head()"
   ]
  },
  {
   "cell_type": "markdown",
   "id": "59549d83",
   "metadata": {},
   "source": [
    "As we saw in the plot above, the target variables are not balanced. Hence below i am upsampling to make them balanced. However, upsampling can often lead to overfitting. Hence, in the following section - Modellig, I will "
   ]
  },
  {
   "cell_type": "code",
   "execution_count": 37,
   "id": "6f110b25",
   "metadata": {},
   "outputs": [
    {
     "data": {
      "text/plain": [
       "91     0\n",
       "108    1\n",
       "173    0\n",
       "186    0\n",
       "65     1\n",
       "      ..\n",
       "128    0\n",
       "119    1\n",
       "133    1\n",
       "140    1\n",
       "200    0\n",
       "Name: Target, Length: 144, dtype: int64"
      ]
     },
     "execution_count": 37,
     "metadata": {},
     "output_type": "execute_result"
    }
   ],
   "source": [
    "X = df[df.columns.difference(['Target'])]\n",
    "y = df['Target']\n",
    "X_train, X_test, y_train, y_test = train_test_split(X, y, test_size=0.30, random_state=seed)"
   ]
  },
  {
   "cell_type": "code",
   "execution_count": 35,
   "id": "6336810c",
   "metadata": {},
   "outputs": [],
   "source": [
    "#using smote to uosample the minority class\n",
    "sm = SMOTE(random_state=seed)\n",
    "X_train_smote, y_train_smote = sm.fit_resample(X_train, y_train)"
   ]
  },
  {
   "cell_type": "code",
   "execution_count": 40,
   "id": "ff4e4601",
   "metadata": {},
   "outputs": [
    {
     "data": {
      "text/plain": [
       "0    87\n",
       "1    87\n",
       "Name: Target, dtype: int64"
      ]
     },
     "execution_count": 40,
     "metadata": {},
     "output_type": "execute_result"
    }
   ],
   "source": [
    "y_train_smote.value_counts()"
   ]
  },
  {
   "cell_type": "markdown",
   "id": "319be1ad",
   "metadata": {},
   "source": [
    "---\n",
    "\n",
    "### Model Fitting, Tuning, Validation and Selection"
   ]
  },
  {
   "cell_type": "markdown",
   "id": "e702386f",
   "metadata": {},
   "source": [
    "I model:\n",
    "- Logistic Regression: Since this is a binary classification excercise and the data is small, logistic regression classifier can work well.\n",
    "- Random Forest: Random Forest works very well if we want to maximise accuracy.\n",
    "Juxstoposing these two very different algorithms will help find the best model with the best accuracy"
   ]
  },
  {
   "cell_type": "markdown",
   "id": "92b8d71b",
   "metadata": {},
   "source": [
    "To find the best models, I do the following:\n",
    "- use GridSearchCV to tune the models to find the best parameters for each model. I rely on hihgest 'accuracy' scores to define best models. \n",
    "- Run same models for both upsampled and original data"
   ]
  },
  {
   "cell_type": "code",
   "execution_count": 45,
   "id": "1171feb2",
   "metadata": {},
   "outputs": [
    {
     "data": {
      "text/plain": [
       "{'solver': 'lbfgs'}"
      ]
     },
     "execution_count": 45,
     "metadata": {},
     "output_type": "execute_result"
    }
   ],
   "source": [
    "#upsampled logistic regression - grid search\n",
    "lr_up = LogisticRegression(max_iter=10000, random_state=seed)\n",
    "parameters = {'solver'  : ['lbfgs', 'liblinear','newton-cg','sag','saga']}\n",
    "tuning_lr_up = GridSearchCV(lr_up,                    # model\n",
    "                      param_grid = parameters,   # hyperparameters\n",
    "                      scoring='accuracy',        # metric for scoring\n",
    "                      cv=10)\n",
    "tuning_lr_up.fit(X_train_smote,y_train_smote)\n",
    "tuning_lr_up.best_params_\n",
    "\n"
   ]
  },
  {
   "cell_type": "code",
   "execution_count": 46,
   "id": "3ba52d1a",
   "metadata": {},
   "outputs": [
    {
     "name": "stdout",
     "output_type": "stream",
     "text": [
      "              precision    recall  f1-score   support\n",
      "\n",
      "         WFO      0.895     0.944     0.919        36\n",
      "         WFH      0.920     0.852     0.885        27\n",
      "\n",
      "    accuracy                          0.905        63\n",
      "   macro avg      0.907     0.898     0.902        63\n",
      "weighted avg      0.906     0.905     0.904        63\n",
      "\n"
     ]
    },
    {
     "data": {
      "image/png": "[encoded data removed]",
      "text/plain": [
       "<Figure size 432x288 with 2 Axes>"
      ]
     },
     "metadata": {
      "needs_background": "light"
     },
     "output_type": "display_data"
    }
   ],
   "source": [
    "#upsampled logistic regression - fitting\n",
    "lr_up = LogisticRegression(max_iter=1000, random_state=seed, solver='lbfgs')\n",
    "lr_up.fit(X_train_smote, y_train_smote)\n",
    "lr_pred = lr_up.predict(X_test)\n",
    "\n",
    "cm_lr_up = confusion_matrix(y_test, lr_pred)\n",
    "display_cm_lr_up = ConfusionMatrixDisplay(confusion_matrix=cm_lr_up,display_labels=['WFO','WFH'])\n",
    "display_cm_lr_up.plot()\n",
    "\n",
    "\n",
    "print(classification_report(y_test, lr_pred, digits=3, target_names=['WFO','WFH']))"
   ]
  },
  {
   "cell_type": "code",
   "execution_count": 47,
   "id": "2363571c",
   "metadata": {},
   "outputs": [
    {
     "data": {
      "text/plain": [
       "{'solver': 'lbfgs'}"
      ]
     },
     "execution_count": 47,
     "metadata": {},
     "output_type": "execute_result"
    }
   ],
   "source": [
    "#original data logsitic regression - grid search\n",
    "lr = LogisticRegression(max_iter=10000, random_state=seed)\n",
    "parameters = {'solver'  : ['lbfgs', 'liblinear','newton-cg','sag','saga']}\n",
    "tuning_lr = GridSearchCV(lr,                    # model\n",
    "                      param_grid = parameters,   # hyperparameters\n",
    "                      scoring='accuracy',        # metric for scoring\n",
    "                      cv=10)\n",
    "tuning_lr.fit(X_train,y_train)\n",
    "tuning_lr.best_params_"
   ]
  },
  {
   "cell_type": "code",
   "execution_count": 48,
   "id": "0c3d6aea",
   "metadata": {},
   "outputs": [
    {
     "name": "stdout",
     "output_type": "stream",
     "text": [
      "              precision    recall  f1-score   support\n",
      "\n",
      "         WFO      0.900     1.000     0.947        36\n",
      "         WFH      1.000     0.852     0.920        27\n",
      "\n",
      "    accuracy                          0.937        63\n",
      "   macro avg      0.950     0.926     0.934        63\n",
      "weighted avg      0.943     0.937     0.936        63\n",
      "\n"
     ]
    },
    {
     "data": {
      "image/png": "[encoded data removed]",
      "text/plain": [
       "<Figure size 432x288 with 2 Axes>"
      ]
     },
     "metadata": {
      "needs_background": "light"
     },
     "output_type": "display_data"
    }
   ],
   "source": [
    "#original data logsitic regression - fitting\n",
    "lr = LogisticRegression(max_iter=1000,random_state=seed, solver='lbfgs')\n",
    "lr.fit(X_train, y_train)\n",
    "lr_pred = lr.predict(X_test)\n",
    "\n",
    "cm_lr = confusion_matrix(y_test, lr_pred)\n",
    "display_cm_lr = ConfusionMatrixDisplay(confusion_matrix=cm_lr,display_labels=['WFO','WFH'])\n",
    "display_cm_lr.plot()\n",
    "\n",
    "\n",
    "print(classification_report(y_test, lr_pred, digits=3, target_names=['WFO','WFH']))"
   ]
  },
  {
   "cell_type": "code",
   "execution_count": 58,
   "id": "9ea3755a",
   "metadata": {},
   "outputs": [
    {
     "name": "stdout",
     "output_type": "stream",
     "text": [
      "{'max_depth': 10, 'min_samples_split': 2, 'n_estimators': 50}\n",
      "Computation time (seconds): 84.179\n"
     ]
    }
   ],
   "source": [
    "#upsampled random forest - grid search\n",
    "start = time.time()\n",
    "rf_up = RandomForestClassifier(random_state=seed)\n",
    "parameters = {'n_estimators'  : [50, 100, 150, 200],\n",
    "              'max_depth': [5, 10, 20, 30, None],\n",
    "             'min_samples_split': [2, 5, 7, 10]}\n",
    "tuning_rf_up = GridSearchCV(rf_up,                    # model\n",
    "                      param_grid = parameters,   # hyperparameters\n",
    "                      scoring='accuracy',        # metric for scoring\n",
    "                      cv=10)\n",
    "tuning_rf_up.fit(X_train_smote,y_train_smote)\n",
    "print(tuning_rf_up.best_params_)\n",
    "\n",
    "computation_time = (time.time()-start)\n",
    "print(\"Computation time (seconds): %5.3f\"%computation_time)"
   ]
  },
  {
   "cell_type": "code",
   "execution_count": 62,
   "id": "d8a0d303",
   "metadata": {},
   "outputs": [
    {
     "name": "stdout",
     "output_type": "stream",
     "text": [
      "              precision    recall  f1-score   support\n",
      "\n",
      "         WFO      1.000     1.000     1.000        36\n",
      "         WFH      1.000     1.000     1.000        27\n",
      "\n",
      "    accuracy                          1.000        63\n",
      "   macro avg      1.000     1.000     1.000        63\n",
      "weighted avg      1.000     1.000     1.000        63\n",
      "\n"
     ]
    },
    {
     "data": {
      "image/png": "[encoded data removed]",
      "text/plain": [
       "<Figure size 432x288 with 2 Axes>"
      ]
     },
     "metadata": {
      "needs_background": "light"
     },
     "output_type": "display_data"
    }
   ],
   "source": [
    "#upsampled random forest - fitting\n",
    "rf_up = RandomForestClassifier(max_depth= 10, min_samples_split = 2, n_estimators = 50, random_state=seed)\n",
    "rf_up.fit(X_train_smote, y_train_smote)\n",
    "rf_pred = rf_up.predict(X_test)\n",
    "\n",
    "cm_rf_up = confusion_matrix(y_test, rf_pred)\n",
    "display_cm_rf_up = ConfusionMatrixDisplay(confusion_matrix=cm_rf_up,display_labels=['WFO','WFH'])\n",
    "display_cm_rf_up.plot()\n",
    "\n",
    "\n",
    "print(classification_report(y_test, rf_pred, digits=3, target_names=['WFO','WFH']))"
   ]
  },
  {
   "cell_type": "code",
   "execution_count": 59,
   "id": "d8cbcad4",
   "metadata": {},
   "outputs": [
    {
     "name": "stdout",
     "output_type": "stream",
     "text": [
      "{'max_depth': 10, 'min_samples_split': 2, 'n_estimators': 50}\n",
      "Computation time (seconds): 83.975\n"
     ]
    }
   ],
   "source": [
    "#original data random forest - grid search\n",
    "start = time.time()\n",
    "rf = RandomForestClassifier(random_state=seed)\n",
    "parameters = {'n_estimators'  : [50, 100, 150, 200],\n",
    "              'max_depth': [5, 10, 20, 30, None],\n",
    "             'min_samples_split': [2, 5, 7, 10]}\n",
    "tuning_rf = GridSearchCV(rf,                    # model\n",
    "                      param_grid = parameters,   # hyperparameters\n",
    "                      scoring='accuracy',        # metric for scoring\n",
    "                      cv=10)\n",
    "tuning_rf.fit(X_train,y_train)\n",
    "print(tuning_rf.best_params_)\n",
    "\n",
    "computation_time = (time.time()-start)\n",
    "print(\"Computation time (seconds): %5.3f\"%computation_time)"
   ]
  },
  {
   "cell_type": "code",
   "execution_count": 61,
   "id": "cf51366d",
   "metadata": {},
   "outputs": [
    {
     "name": "stdout",
     "output_type": "stream",
     "text": [
      "              precision    recall  f1-score   support\n",
      "\n",
      "         WFO      1.000     1.000     1.000        36\n",
      "         WFH      1.000     1.000     1.000        27\n",
      "\n",
      "    accuracy                          1.000        63\n",
      "   macro avg      1.000     1.000     1.000        63\n",
      "weighted avg      1.000     1.000     1.000        63\n",
      "\n"
     ]
    },
    {
     "data": {
      "image/png": "[encoded data removed]",
      "text/plain": [
       "<Figure size 432x288 with 2 Axes>"
      ]
     },
     "metadata": {
      "needs_background": "light"
     },
     "output_type": "display_data"
    }
   ],
   "source": [
    "#original data random forest - fitting\n",
    "rf = RandomForestClassifier(max_depth= 10, min_samples_split = 2, n_estimators = 50, random_state=seed)\n",
    "rf.fit(X_train, y_train)\n",
    "rf_pred = rf.predict(X_test)\n",
    "\n",
    "cm_rf = confusion_matrix(y_test, rf_pred)\n",
    "display_cm_rf = ConfusionMatrixDisplay(confusion_matrix=cm_rf, display_labels=['WFO','WFH'])\n",
    "display_cm_rf.plot()\n",
    "\n",
    "\n",
    "print(classification_report(y_test, rf_pred, digits=3, target_names=['WFO','WFH']))"
   ]
  },
  {
   "cell_type": "markdown",
   "id": "a534d05e",
   "metadata": {},
   "source": [
    "Random Forest performs much better than logistic regression for both resampled and original data. We see Random Forest performing the same for both resampled and original data (and even giving out the same hyperparameters) because random forest doesn't get affected too badly with unbalanced data. The gap in the minority and majority class isn't too large.\n",
    "\n",
    "As expected, logistic regression performs worse relatively. However, the tuned model with original data does not perforn too terribly. Given the higher computational time for random forest, logistic regression can provide a good alternative for smaller datasets."
   ]
  },
  {
   "cell_type": "markdown",
   "id": "7b1ff21f",
   "metadata": {},
   "source": [
    "I also plot ROC and AUC curves as it is a common metric used to find the best model amongst various algorithms. In the graph below we want the curve to bow as much to the top left as possible - indicating high true positve rate but low false positive rate."
   ]
  },
  {
   "cell_type": "code",
   "execution_count": 63,
   "id": "fdf3dc1b",
   "metadata": {},
   "outputs": [],
   "source": [
    "# Generating ROC and AUC\n",
    "\n",
    "#original\n",
    "rf_auc = roc_auc_score(y_test, rf.predict_proba(X_test)[:, 1])\n",
    "lr_auc= roc_auc_score(y_test, lr.predict_proba(X_test)[:, 1])\n",
    "\n",
    "rf_fpr, rf_tpr, rf_threshold = roc_curve(y_test, rf.predict_proba(X_test)[:, 1])\n",
    "lr_fpr, lr_tpr, lr_threshold = roc_curve(y_test, lr.predict_proba(X_test)[:, 1])\n",
    "\n",
    "\n",
    "#up sampled data\n",
    "rf_up_auc = roc_auc_score(y_test, rf_up.predict_proba(X_test)[:, 1])\n",
    "lr_up_auc= roc_auc_score(y_test, lr_up.predict_proba(X_test)[:, 1])\n",
    "rf_up_fpr, rf_up_tpr, rf_up_threshold = roc_curve(y_test, rf_up.predict_proba(X_test)[:, 1])\n",
    "lr_up_fpr, lr_up_tpr, lr_up_threshold = roc_curve(y_test, lr_up.predict_proba(X_test)[:, 1])\n"
   ]
  },
  {
   "cell_type": "code",
   "execution_count": 65,
   "id": "b8caba2e",
   "metadata": {},
   "outputs": [
    {
     "data": {
      "image/png": "[encoded data removed]",
      "text/plain": [
       "<Figure size 1080x720 with 1 Axes>"
      ]
     },
     "metadata": {
      "needs_background": "light"
     },
     "output_type": "display_data"
    }
   ],
   "source": [
    "plt.figure(figsize=(15, 10))\n",
    "plt.plot(lr_fpr, lr_tpr, marker='*', label='Logistic Regression - AUC:%.3f' % lr_auc)\n",
    "plt.plot(rf_fpr, rf_tpr, marker='.', label='Random Forest - AUC: %.3f' % rf_auc)\n",
    "\n",
    "plt.plot(rf_up_fpr, rf_up_tpr, marker='.', label='Random Forest (upsampled) - AUC: %.3f' % rf_up_auc)\n",
    "plt.plot(lr_up_fpr, lr_up_tpr, marker='.', label='Logistic Regression (upsampled) - AUC: %.3f' % lr_up_auc)\n",
    "plt.plot([0, 1], [0, 1], \"--\", label=\"Chance level (AUC = 0.5)\")\n",
    "plt.xlabel('FPR - False Positive Rate', fontsize=18)\n",
    "plt.ylabel('TPR - True Positive Rate', fontsize=18)\n",
    "plt.title('Work Location Preference',  fontsize=24)\n",
    "plt.legend(loc='lower right', fontsize=14)\n",
    "plt.show()"
   ]
  },
  {
   "cell_type": "markdown",
   "id": "67c6d918",
   "metadata": {},
   "source": [
    "As is obvious from the confusion matrix (reporting accuray) itself, random forest algorithms are more bowed to the top left, making them better classifiers."
   ]
  },
  {
   "cell_type": "markdown",
   "id": "dcf80aa1",
   "metadata": {},
   "source": [
    "#### Conclusion\n",
    "To model binary preferences such as location of work - Work From Home or Work From Office, Random Forest model gives us best results. Random Forest also works well without having to resample if the class imbalance isn't too large. Further, logistic regressions can work acceptably if the sample is not too large. "
   ]
  },
  {
   "cell_type": "markdown",
   "id": "3ccc5cfc",
   "metadata": {},
   "source": [
    "---\n",
    "\n",
    "### REFERENCES \n",
    "\n",
    "* https://matplotlib.org/stable/api/_as_gen/matplotlib.pyplot.xticks.html\n",
    "* https://scikit-learn.org/stable/modules/generated/sklearn.ensemble.RandomForestClassifier.html\n",
    "* https://scikit-learn.org/stable/modules/generated/sklearn.model_selection.GridSearchCV.html\n",
    "* https://scikit-learn.org/stable/modules/generated/sklearn.linear_model.LogisticRegression.html\n",
    "* https://scikit-learn.org/stable/modules/generated/sklearn.metrics.roc_auc_score.html"
   ]
  },
  {
   "cell_type": "code",
   "execution_count": null,
   "id": "a3673dfb",
   "metadata": {},
   "outputs": [],
   "source": []
  }
 ],
 "metadata": {
  "kernelspec": {
   "display_name": "Python 3 (ipykernel)",
   "language": "python",
   "name": "python3"
  },
  "language_info": {
   "codemirror_mode": {
    "name": "ipython",
    "version": 3
   },
   "file_extension": ".py",
   "mimetype": "text/x-python",
   "name": "python",
   "nbconvert_exporter": "python",
   "pygments_lexer": "ipython3",
   "version": "3.9.12"
  }
 },
 "nbformat": 4,
 "nbformat_minor": 5
}
